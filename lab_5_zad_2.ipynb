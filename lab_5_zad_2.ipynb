{
 "cells": [
  {
   "cell_type": "code",
   "execution_count": 1,
   "metadata": {},
   "outputs": [],
   "source": [
    "import pandas as pd\n",
    "data = pd.read_excel(\"drinks.xlsx\")"
   ]
  },
  {
   "cell_type": "code",
   "execution_count": 2,
   "metadata": {},
   "outputs": [
    {
     "name": "stdout",
     "output_type": "stream",
     "text": [
      "<class 'pandas.core.frame.DataFrame'>\n",
      "RangeIndex: 193 entries, 0 to 192\n",
      "Data columns (total 5 columns):\n",
      "country                         193 non-null object\n",
      "beer_servings                   193 non-null int64\n",
      "spirit_servings                 193 non-null int64\n",
      "wine_servings                   193 non-null int64\n",
      "total_litres_of_pure_alcohol    193 non-null float64\n",
      "dtypes: float64(1), int64(3), object(1)\n",
      "memory usage: 7.7+ KB\n"
     ]
    }
   ],
   "source": [
    "data.info()"
   ]
  },
  {
   "cell_type": "code",
   "execution_count": 3,
   "metadata": {},
   "outputs": [
    {
     "data": {
      "text/html": [
       "<div>\n",
       "<style scoped>\n",
       "    .dataframe tbody tr th:only-of-type {\n",
       "        vertical-align: middle;\n",
       "    }\n",
       "\n",
       "    .dataframe tbody tr th {\n",
       "        vertical-align: top;\n",
       "    }\n",
       "\n",
       "    .dataframe thead th {\n",
       "        text-align: right;\n",
       "    }\n",
       "</style>\n",
       "<table border=\"1\" class=\"dataframe\">\n",
       "  <thead>\n",
       "    <tr style=\"text-align: right;\">\n",
       "      <th></th>\n",
       "      <th>country</th>\n",
       "      <th>beer_servings</th>\n",
       "      <th>spirit_servings</th>\n",
       "      <th>wine_servings</th>\n",
       "      <th>total_litres_of_pure_alcohol</th>\n",
       "    </tr>\n",
       "  </thead>\n",
       "  <tbody>\n",
       "    <tr>\n",
       "      <td>0</td>\n",
       "      <td>Afghanistan</td>\n",
       "      <td>0</td>\n",
       "      <td>0</td>\n",
       "      <td>0</td>\n",
       "      <td>0.0</td>\n",
       "    </tr>\n",
       "    <tr>\n",
       "      <td>1</td>\n",
       "      <td>Albania</td>\n",
       "      <td>89</td>\n",
       "      <td>132</td>\n",
       "      <td>54</td>\n",
       "      <td>4.9</td>\n",
       "    </tr>\n",
       "    <tr>\n",
       "      <td>2</td>\n",
       "      <td>Algeria</td>\n",
       "      <td>25</td>\n",
       "      <td>0</td>\n",
       "      <td>14</td>\n",
       "      <td>0.7</td>\n",
       "    </tr>\n",
       "    <tr>\n",
       "      <td>3</td>\n",
       "      <td>Andorra</td>\n",
       "      <td>245</td>\n",
       "      <td>138</td>\n",
       "      <td>312</td>\n",
       "      <td>12.4</td>\n",
       "    </tr>\n",
       "    <tr>\n",
       "      <td>4</td>\n",
       "      <td>Angola</td>\n",
       "      <td>217</td>\n",
       "      <td>57</td>\n",
       "      <td>45</td>\n",
       "      <td>5.9</td>\n",
       "    </tr>\n",
       "  </tbody>\n",
       "</table>\n",
       "</div>"
      ],
      "text/plain": [
       "       country  beer_servings  spirit_servings  wine_servings  \\\n",
       "0  Afghanistan              0                0              0   \n",
       "1      Albania             89              132             54   \n",
       "2      Algeria             25                0             14   \n",
       "3      Andorra            245              138            312   \n",
       "4       Angola            217               57             45   \n",
       "\n",
       "   total_litres_of_pure_alcohol  \n",
       "0                           0.0  \n",
       "1                           4.9  \n",
       "2                           0.7  \n",
       "3                          12.4  \n",
       "4                           5.9  "
      ]
     },
     "execution_count": 3,
     "metadata": {},
     "output_type": "execute_result"
    }
   ],
   "source": [
    "data.head()"
   ]
  },
  {
   "cell_type": "code",
   "execution_count": 4,
   "metadata": {},
   "outputs": [
    {
     "data": {
      "text/html": [
       "<div>\n",
       "<style scoped>\n",
       "    .dataframe tbody tr th:only-of-type {\n",
       "        vertical-align: middle;\n",
       "    }\n",
       "\n",
       "    .dataframe tbody tr th {\n",
       "        vertical-align: top;\n",
       "    }\n",
       "\n",
       "    .dataframe thead th {\n",
       "        text-align: right;\n",
       "    }\n",
       "</style>\n",
       "<table border=\"1\" class=\"dataframe\">\n",
       "  <thead>\n",
       "    <tr style=\"text-align: right;\">\n",
       "      <th></th>\n",
       "      <th>beer_servings</th>\n",
       "      <th>spirit_servings</th>\n",
       "      <th>wine_servings</th>\n",
       "      <th>total_litres_of_pure_alcohol</th>\n",
       "    </tr>\n",
       "  </thead>\n",
       "  <tbody>\n",
       "    <tr>\n",
       "      <td>count</td>\n",
       "      <td>193.000000</td>\n",
       "      <td>193.000000</td>\n",
       "      <td>193.000000</td>\n",
       "      <td>193.000000</td>\n",
       "    </tr>\n",
       "    <tr>\n",
       "      <td>mean</td>\n",
       "      <td>106.160622</td>\n",
       "      <td>80.994819</td>\n",
       "      <td>49.450777</td>\n",
       "      <td>4.717098</td>\n",
       "    </tr>\n",
       "    <tr>\n",
       "      <td>std</td>\n",
       "      <td>101.143103</td>\n",
       "      <td>88.284312</td>\n",
       "      <td>79.697598</td>\n",
       "      <td>3.773298</td>\n",
       "    </tr>\n",
       "    <tr>\n",
       "      <td>min</td>\n",
       "      <td>0.000000</td>\n",
       "      <td>0.000000</td>\n",
       "      <td>0.000000</td>\n",
       "      <td>0.000000</td>\n",
       "    </tr>\n",
       "    <tr>\n",
       "      <td>25%</td>\n",
       "      <td>20.000000</td>\n",
       "      <td>4.000000</td>\n",
       "      <td>1.000000</td>\n",
       "      <td>1.300000</td>\n",
       "    </tr>\n",
       "    <tr>\n",
       "      <td>50%</td>\n",
       "      <td>76.000000</td>\n",
       "      <td>56.000000</td>\n",
       "      <td>8.000000</td>\n",
       "      <td>4.200000</td>\n",
       "    </tr>\n",
       "    <tr>\n",
       "      <td>75%</td>\n",
       "      <td>188.000000</td>\n",
       "      <td>128.000000</td>\n",
       "      <td>59.000000</td>\n",
       "      <td>7.200000</td>\n",
       "    </tr>\n",
       "    <tr>\n",
       "      <td>max</td>\n",
       "      <td>376.000000</td>\n",
       "      <td>438.000000</td>\n",
       "      <td>370.000000</td>\n",
       "      <td>14.400000</td>\n",
       "    </tr>\n",
       "  </tbody>\n",
       "</table>\n",
       "</div>"
      ],
      "text/plain": [
       "       beer_servings  spirit_servings  wine_servings  \\\n",
       "count     193.000000       193.000000     193.000000   \n",
       "mean      106.160622        80.994819      49.450777   \n",
       "std       101.143103        88.284312      79.697598   \n",
       "min         0.000000         0.000000       0.000000   \n",
       "25%        20.000000         4.000000       1.000000   \n",
       "50%        76.000000        56.000000       8.000000   \n",
       "75%       188.000000       128.000000      59.000000   \n",
       "max       376.000000       438.000000     370.000000   \n",
       "\n",
       "       total_litres_of_pure_alcohol  \n",
       "count                    193.000000  \n",
       "mean                       4.717098  \n",
       "std                        3.773298  \n",
       "min                        0.000000  \n",
       "25%                        1.300000  \n",
       "50%                        4.200000  \n",
       "75%                        7.200000  \n",
       "max                       14.400000  "
      ]
     },
     "execution_count": 4,
     "metadata": {},
     "output_type": "execute_result"
    }
   ],
   "source": [
    "data.describe()"
   ]
  },
  {
   "cell_type": "code",
   "execution_count": 5,
   "metadata": {},
   "outputs": [
    {
     "data": {
      "text/plain": [
       "beer_servings                   106.160622\n",
       "spirit_servings                  80.994819\n",
       "wine_servings                    49.450777\n",
       "total_litres_of_pure_alcohol      4.717098\n",
       "dtype: float64"
      ]
     },
     "execution_count": 5,
     "metadata": {},
     "output_type": "execute_result"
    }
   ],
   "source": [
    "data.mean()"
   ]
  },
  {
   "cell_type": "code",
   "execution_count": 6,
   "metadata": {},
   "outputs": [
    {
     "name": "stdout",
     "output_type": "stream",
     "text": [
      "Countries where average consumption of beer is higher than an average: \n",
      "[3, 4, 6, 8, 9, 11, 14, 15, 16, 17, 20, 22, 23, 25, 29, 31, 32, 35, 37, 41, 42, 44, 45, 48, 51, 52, 57, 60, 61, 62, 65, 67, 68, 75, 76, 81, 87, 93, 98, 99, 105, 109, 117, 120, 121, 125, 126, 129, 130, 132, 133, 135, 136, 138, 139, 140, 141, 143, 144, 145, 151, 152, 155, 156, 159, 160, 163, 165, 166, 174, 180, 182, 184, 185, 188, 189]\n",
      "\n",
      "\n",
      "Countries where average consumption of spirit is higher than an average: \n",
      "[1, 3, 5, 7, 11, 14, 15, 16, 17, 21, 23, 25, 32, 35, 36, 40, 41, 42, 43, 44, 45, 48, 50, 51, 57, 60, 61, 62, 64, 65, 67, 68, 72, 73, 74, 75, 77, 81, 84, 85, 87, 91, 93, 96, 98, 99, 105, 112, 113, 120, 122, 125, 130, 132, 133, 134, 135, 139, 140, 141, 143, 144, 145, 151, 155, 160, 161, 163, 166, 169, 174, 180, 181, 182, 184, 186, 188]\n",
      "\n",
      "\n",
      "Countries where average consumption of wine is higher than an average: \n",
      "[1, 3, 6, 8, 9, 11, 16, 25, 32, 35, 40, 42, 44, 45, 48, 55, 57, 60, 61, 62, 64, 65, 67, 75, 76, 81, 83, 92, 93, 98, 99, 105, 113, 120, 121, 126, 132, 135, 136, 140, 141, 144, 148, 151, 152, 155, 156, 159, 160, 165, 166, 170, 182, 184, 185]\n",
      "\n",
      "\n",
      "Countries where average consumption of each type of alcoholis higher than an average: \n",
      "[3, 11, 16, 25, 32, 35, 42, 44, 45, 48, 57, 60, 61, 62, 65, 67, 75, 81, 93, 98, 99, 105, 120, 132, 135, 140, 141, 144, 151, 155, 160, 166, 182, 184]\n",
      "\n",
      "\n",
      "Data about the country with the biggest consumption of pure alcohol: \n"
     ]
    },
    {
     "data": {
      "text/plain": [
       "country                         Belarus\n",
       "beer_servings                       142\n",
       "spirit_servings                     373\n",
       "wine_servings                        42\n",
       "total_litres_of_pure_alcohol       14.4\n",
       "Name: 15, dtype: object"
      ]
     },
     "execution_count": 6,
     "metadata": {},
     "output_type": "execute_result"
    }
   ],
   "source": [
    "#f = data.loc[2,1] #'beer_servings'] \n",
    "beerMean = data['beer_servings'].mean()\n",
    "beerCountries = []\n",
    "\n",
    "spiritMean = data['spirit_servings'].mean()\n",
    "spiritCountries = []\n",
    "\n",
    "wineMean = data['wine_servings'].mean()\n",
    "wineCountries = []\n",
    "\n",
    "total = []\n",
    "\n",
    "for index, row in data.iterrows():\n",
    "    cnt = 0\n",
    "    if row['beer_servings'] > beerMean :\n",
    "        beerCountries.append(index)\n",
    "        cnt = cnt +1\n",
    "    if row['spirit_servings'] > spiritMean :\n",
    "        spiritCountries.append(index)\n",
    "        cnt = cnt +1\n",
    "    if row['wine_servings'] > wineMean :\n",
    "        wineCountries.append(index)\n",
    "        cnt = cnt +1\n",
    "    if cnt == 3:\n",
    "        total.append(index)\n",
    "        \n",
    "\n",
    "        \n",
    "print(\"Countries where average consumption of beer is higher than an average: \")        \n",
    "print(beerCountries)\n",
    "print(\"\\n\")\n",
    "print(\"Countries where average consumption of spirit is higher than an average: \") \n",
    "print(spiritCountries)\n",
    "print(\"\\n\")\n",
    "print(\"Countries where average consumption of wine is higher than an average: \") \n",
    "print(wineCountries)\n",
    "print(\"\\n\")\n",
    "print(\"Countries where average consumption of each type of alcoholis higher than an average: \") \n",
    "print(total)\n",
    "print(\"\\n\")\n",
    "print(\"Data about the country with the biggest consumption of pure alcohol: \")\n",
    "data.loc[data['total_litres_of_pure_alcohol'].idxmax()]"
   ]
  },
  {
   "cell_type": "code",
   "execution_count": null,
   "metadata": {},
   "outputs": [],
   "source": []
  }
 ],
 "metadata": {
  "kernelspec": {
   "display_name": "Python 3",
   "language": "python",
   "name": "python3"
  },
  "language_info": {
   "codemirror_mode": {
    "name": "ipython",
    "version": 3
   },
   "file_extension": ".py",
   "mimetype": "text/x-python",
   "name": "python",
   "nbconvert_exporter": "python",
   "pygments_lexer": "ipython3",
   "version": "3.7.4"
  }
 },
 "nbformat": 4,
 "nbformat_minor": 2
}
