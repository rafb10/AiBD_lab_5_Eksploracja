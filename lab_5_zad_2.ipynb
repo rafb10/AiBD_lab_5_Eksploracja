{
 "cells": [
  {
   "cell_type": "code",
   "execution_count": null,
   "metadata": {},
   "outputs": [],
   "source": [
    "import pandas as pd\n",
    "data = pd.read_excel(\"C:\\\\Users\\\\rafal\\\\Downloads\\\\VII semestr\\\\Analiza_i_BazyDanych\\\\lab1\\\\Command Files\\\\drinks.xlsx\")"
   ]
  },
  {
   "cell_type": "code",
   "execution_count": null,
   "metadata": {},
   "outputs": [],
   "source": [
    "data.info()"
   ]
  },
  {
   "cell_type": "code",
   "execution_count": 14,
   "metadata": {},
   "outputs": [
    {
     "data": {
      "text/html": [
       "<div>\n",
       "<style scoped>\n",
       "    .dataframe tbody tr th:only-of-type {\n",
       "        vertical-align: middle;\n",
       "    }\n",
       "\n",
       "    .dataframe tbody tr th {\n",
       "        vertical-align: top;\n",
       "    }\n",
       "\n",
       "    .dataframe thead th {\n",
       "        text-align: right;\n",
       "    }\n",
       "</style>\n",
       "<table border=\"1\" class=\"dataframe\">\n",
       "  <thead>\n",
       "    <tr style=\"text-align: right;\">\n",
       "      <th></th>\n",
       "      <th>beer_servings</th>\n",
       "      <th>spirit_servings</th>\n",
       "      <th>wine_servings</th>\n",
       "      <th>total_litres_of_pure_alcohol</th>\n",
       "    </tr>\n",
       "  </thead>\n",
       "  <tbody>\n",
       "    <tr>\n",
       "      <th>Afghanistan</th>\n",
       "      <td>0</td>\n",
       "      <td>0</td>\n",
       "      <td>0</td>\n",
       "      <td>0.0</td>\n",
       "    </tr>\n",
       "    <tr>\n",
       "      <th>Albania</th>\n",
       "      <td>89</td>\n",
       "      <td>132</td>\n",
       "      <td>54</td>\n",
       "      <td>4.9</td>\n",
       "    </tr>\n",
       "    <tr>\n",
       "      <th>Algeria</th>\n",
       "      <td>25</td>\n",
       "      <td>0</td>\n",
       "      <td>14</td>\n",
       "      <td>0.7</td>\n",
       "    </tr>\n",
       "    <tr>\n",
       "      <th>Andorra</th>\n",
       "      <td>245</td>\n",
       "      <td>138</td>\n",
       "      <td>312</td>\n",
       "      <td>12.4</td>\n",
       "    </tr>\n",
       "    <tr>\n",
       "      <th>Angola</th>\n",
       "      <td>217</td>\n",
       "      <td>57</td>\n",
       "      <td>45</td>\n",
       "      <td>5.9</td>\n",
       "    </tr>\n",
       "  </tbody>\n",
       "</table>\n",
       "</div>"
      ],
      "text/plain": [
       "             beer_servings  spirit_servings  wine_servings  \\\n",
       "Afghanistan              0                0              0   \n",
       "Albania                 89              132             54   \n",
       "Algeria                 25                0             14   \n",
       "Andorra                245              138            312   \n",
       "Angola                 217               57             45   \n",
       "\n",
       "             total_litres_of_pure_alcohol  \n",
       "Afghanistan                           0.0  \n",
       "Albania                               4.9  \n",
       "Algeria                               0.7  \n",
       "Andorra                              12.4  \n",
       "Angola                                5.9  "
      ]
     },
     "execution_count": 14,
     "metadata": {},
     "output_type": "execute_result"
    }
   ],
   "source": [
    "data.head()"
   ]
  },
  {
   "cell_type": "code",
   "execution_count": 15,
   "metadata": {},
   "outputs": [
    {
     "data": {
      "text/html": [
       "<div>\n",
       "<style scoped>\n",
       "    .dataframe tbody tr th:only-of-type {\n",
       "        vertical-align: middle;\n",
       "    }\n",
       "\n",
       "    .dataframe tbody tr th {\n",
       "        vertical-align: top;\n",
       "    }\n",
       "\n",
       "    .dataframe thead th {\n",
       "        text-align: right;\n",
       "    }\n",
       "</style>\n",
       "<table border=\"1\" class=\"dataframe\">\n",
       "  <thead>\n",
       "    <tr style=\"text-align: right;\">\n",
       "      <th></th>\n",
       "      <th>beer_servings</th>\n",
       "      <th>spirit_servings</th>\n",
       "      <th>wine_servings</th>\n",
       "      <th>total_litres_of_pure_alcohol</th>\n",
       "    </tr>\n",
       "  </thead>\n",
       "  <tbody>\n",
       "    <tr>\n",
       "      <th>count</th>\n",
       "      <td>193.000000</td>\n",
       "      <td>193.000000</td>\n",
       "      <td>193.000000</td>\n",
       "      <td>193.000000</td>\n",
       "    </tr>\n",
       "    <tr>\n",
       "      <th>mean</th>\n",
       "      <td>106.160622</td>\n",
       "      <td>80.994819</td>\n",
       "      <td>49.450777</td>\n",
       "      <td>4.717098</td>\n",
       "    </tr>\n",
       "    <tr>\n",
       "      <th>std</th>\n",
       "      <td>101.143103</td>\n",
       "      <td>88.284312</td>\n",
       "      <td>79.697598</td>\n",
       "      <td>3.773298</td>\n",
       "    </tr>\n",
       "    <tr>\n",
       "      <th>min</th>\n",
       "      <td>0.000000</td>\n",
       "      <td>0.000000</td>\n",
       "      <td>0.000000</td>\n",
       "      <td>0.000000</td>\n",
       "    </tr>\n",
       "    <tr>\n",
       "      <th>25%</th>\n",
       "      <td>20.000000</td>\n",
       "      <td>4.000000</td>\n",
       "      <td>1.000000</td>\n",
       "      <td>1.300000</td>\n",
       "    </tr>\n",
       "    <tr>\n",
       "      <th>50%</th>\n",
       "      <td>76.000000</td>\n",
       "      <td>56.000000</td>\n",
       "      <td>8.000000</td>\n",
       "      <td>4.200000</td>\n",
       "    </tr>\n",
       "    <tr>\n",
       "      <th>75%</th>\n",
       "      <td>188.000000</td>\n",
       "      <td>128.000000</td>\n",
       "      <td>59.000000</td>\n",
       "      <td>7.200000</td>\n",
       "    </tr>\n",
       "    <tr>\n",
       "      <th>max</th>\n",
       "      <td>376.000000</td>\n",
       "      <td>438.000000</td>\n",
       "      <td>370.000000</td>\n",
       "      <td>14.400000</td>\n",
       "    </tr>\n",
       "  </tbody>\n",
       "</table>\n",
       "</div>"
      ],
      "text/plain": [
       "       beer_servings  spirit_servings  wine_servings  \\\n",
       "count     193.000000       193.000000     193.000000   \n",
       "mean      106.160622        80.994819      49.450777   \n",
       "std       101.143103        88.284312      79.697598   \n",
       "min         0.000000         0.000000       0.000000   \n",
       "25%        20.000000         4.000000       1.000000   \n",
       "50%        76.000000        56.000000       8.000000   \n",
       "75%       188.000000       128.000000      59.000000   \n",
       "max       376.000000       438.000000     370.000000   \n",
       "\n",
       "       total_litres_of_pure_alcohol  \n",
       "count                    193.000000  \n",
       "mean                       4.717098  \n",
       "std                        3.773298  \n",
       "min                        0.000000  \n",
       "25%                        1.300000  \n",
       "50%                        4.200000  \n",
       "75%                        7.200000  \n",
       "max                       14.400000  "
      ]
     },
     "execution_count": 15,
     "metadata": {},
     "output_type": "execute_result"
    }
   ],
   "source": [
    "data.describe()"
   ]
  },
  {
   "cell_type": "code",
   "execution_count": 18,
   "metadata": {},
   "outputs": [
    {
     "data": {
      "text/plain": [
       "beer_servings                   106.160622\n",
       "spirit_servings                  80.994819\n",
       "wine_servings                    49.450777\n",
       "total_litres_of_pure_alcohol      4.717098\n",
       "dtype: float64"
      ]
     },
     "execution_count": 18,
     "metadata": {},
     "output_type": "execute_result"
    }
   ],
   "source": [
    "data.mean()"
   ]
  },
  {
   "cell_type": "code",
   "execution_count": 47,
   "metadata": {},
   "outputs": [
    {
     "name": "stdout",
     "output_type": "stream",
     "text": [
      "Countries where average consumption of beer is higher than an average: \n",
      "['Andorra', 'Angola', 'Argentina', 'Australia', 'Austria', 'Bahamas', 'Barbados', 'Belarus', 'Belgium', 'Belize', 'Bolivia', 'Botswana', 'Brazil', 'Bulgaria', 'Cabo Verde', 'Cameroon', 'Canada', 'Chile', 'Colombia', 'Costa Rica', 'Croatia', 'Cyprus', 'Czech Republic', 'Denmark', 'Dominican Republic', 'Ecuador', 'Estonia', 'Finland', 'France', 'Gabon', 'Germany', 'Greece', 'Grenada', 'Hungary', 'Iceland', 'Ireland', 'Kazakhstan', 'Latvia', 'Lithuania', 'Luxembourg', 'Malta', 'Mexico', 'Namibia', 'Netherlands', 'New Zealand', 'Niue', 'Norway', 'Palau', 'Panama', 'Paraguay', 'Peru', 'Poland', 'Portugal', 'South Korea', 'Moldova', 'Romania', 'Russian Federation', 'St. Kitts & Nevis', 'St. Lucia', 'St. Vincent & the Grenadines', 'Serbia', 'Seychelles', 'Slovakia', 'Slovenia', 'South Africa', 'Spain', 'Suriname', 'Sweden', 'Switzerland', 'Trinidad & Tobago', 'Ukraine', 'United Kingdom', 'USA', 'Uruguay', 'Venezuela', 'Vietnam']\n",
      "\n",
      "\n",
      "Countries where average consumption of spirit is higher than an average: \n",
      "['Albania', 'Andorra', 'Antigua & Barbuda', 'Armenia', 'Bahamas', 'Barbados', 'Belarus', 'Belgium', 'Belize', 'Bosnia-Herzegovina', 'Brazil', 'Bulgaria', 'Canada', 'Chile', 'China', 'Cook Islands', 'Costa Rica', 'Croatia', 'Cuba', 'Cyprus', 'Czech Republic', 'Denmark', 'Dominica', 'Dominican Republic', 'Estonia', 'Finland', 'France', 'Gabon', 'Georgia', 'Germany', 'Greece', 'Grenada', 'Guyana', 'Haiti', 'Honduras', 'Hungary', 'India', 'Ireland', 'Jamaica', 'Japan', 'Kazakhstan', 'Kyrgyzstan', 'Latvia', 'Liberia', 'Lithuania', 'Luxembourg', 'Malta', 'Mongolia', 'Montenegro', 'Netherlands', 'Nicaragua', 'Niue', 'Panama', 'Paraguay', 'Peru', 'Philippines', 'Poland', 'Moldova', 'Romania', 'Russian Federation', 'St. Kitts & Nevis', 'St. Lucia', 'St. Vincent & the Grenadines', 'Serbia', 'Slovakia', 'Spain', 'Sri Lanka', 'Suriname', 'Switzerland', 'Thailand', 'Trinidad & Tobago', 'Ukraine', 'United Arab Emirates', 'United Kingdom', 'USA', 'Uzbekistan', 'Venezuela']\n",
      "\n",
      "\n",
      "Countries where average consumption of wine is higher than an average: \n",
      "['Albania', 'Andorra', 'Argentina', 'Australia', 'Austria', 'Bahamas', 'Belgium', 'Bulgaria', 'Canada', 'Chile', 'Cook Islands', 'Croatia', 'Cyprus', 'Czech Republic', 'Denmark', 'Equatorial Guinea', 'Estonia', 'Finland', 'France', 'Gabon', 'Georgia', 'Germany', 'Greece', 'Hungary', 'Iceland', 'Ireland', 'Italy', 'Laos', 'Latvia', 'Lithuania', 'Luxembourg', 'Malta', 'Montenegro', 'Netherlands', 'New Zealand', 'Norway', 'Paraguay', 'Poland', 'Portugal', 'Romania', 'Russian Federation', 'St. Lucia', 'Sao Tome & Principe', 'Serbia', 'Seychelles', 'Slovakia', 'Slovenia', 'South Africa', 'Spain', 'Sweden', 'Switzerland', 'Macedonia', 'United Kingdom', 'USA', 'Uruguay']\n",
      "\n",
      "\n",
      "Countries where average consumption of each type of alcoholis higher than an average: \n",
      "['Andorra', 'Bahamas', 'Belgium', 'Bulgaria', 'Canada', 'Chile', 'Croatia', 'Cyprus', 'Czech Republic', 'Denmark', 'Estonia', 'Finland', 'France', 'Gabon', 'Germany', 'Greece', 'Hungary', 'Ireland', 'Latvia', 'Lithuania', 'Luxembourg', 'Malta', 'Netherlands', 'Paraguay', 'Poland', 'Romania', 'Russian Federation', 'St. Lucia', 'Serbia', 'Slovakia', 'Spain', 'Switzerland', 'United Kingdom', 'USA']\n",
      "\n",
      "\n",
      "Data about the country where total consumption of pure alcohol is the biggest: \n"
     ]
    },
    {
     "data": {
      "text/plain": [
       "beer_servings                   142.0\n",
       "spirit_servings                 373.0\n",
       "wine_servings                    42.0\n",
       "total_litres_of_pure_alcohol     14.4\n",
       "Name: Belarus, dtype: float64"
      ]
     },
     "execution_count": 47,
     "metadata": {},
     "output_type": "execute_result"
    }
   ],
   "source": [
    "#f = data.loc[2,1] #'beer_servings'] \n",
    "beerMean = data['beer_servings'].mean()\n",
    "beerCountries = []\n",
    "\n",
    "spiritMean = data['spirit_servings'].mean()\n",
    "spiritCountries = []\n",
    "\n",
    "wineMean = data['wine_servings'].mean()\n",
    "wineCountries = []\n",
    "\n",
    "total = []\n",
    "\n",
    "for index, row in data.iterrows():\n",
    "    cnt = 0\n",
    "    if row['beer_servings'] > beerMean :\n",
    "        beerCountries.append(index)\n",
    "        cnt = cnt +1\n",
    "    if row['spirit_servings'] > spiritMean :\n",
    "        spiritCountries.append(index)\n",
    "        cnt = cnt +1\n",
    "    if row['wine_servings'] > wineMean :\n",
    "        wineCountries.append(index)\n",
    "        cnt = cnt +1\n",
    "        #print(data.index.values[index])\n",
    "    if cnt == 3:\n",
    "        total.append(index)\n",
    "        \n",
    "\n",
    "        \n",
    "print(\"Countries where average consumption of beer is higher than an average: \")        \n",
    "print(beerCountries)\n",
    "print(\"\\n\")\n",
    "print(\"Countries where average consumption of spirit is higher than an average: \") \n",
    "print(spiritCountries)\n",
    "print(\"\\n\")\n",
    "print(\"Countries where average consumption of wine is higher than an average: \") \n",
    "print(wineCountries)\n",
    "print(\"\\n\")\n",
    "print(\"Countries where average consumption of each type of alcoholis higher than an average: \") \n",
    "print(total)\n",
    "print(\"\\n\")\n",
    "print(\"Data about the country with the biggest consumption of pure alcohol: \")\n",
    "data.loc[data['total_litres_of_pure_alcohol'].idxmax()]"
   ]
  },
  {
   "cell_type": "code",
   "execution_count": null,
   "metadata": {},
   "outputs": [],
   "source": []
  }
 ],
 "metadata": {
  "kernelspec": {
   "display_name": "Python 3",
   "language": "python",
   "name": "python3"
  },
  "language_info": {
   "codemirror_mode": {
    "name": "ipython",
    "version": 3
   },
   "file_extension": ".py",
   "mimetype": "text/x-python",
   "name": "python",
   "nbconvert_exporter": "python",
   "pygments_lexer": "ipython3",
   "version": "3.6.5"
  }
 },
 "nbformat": 4,
 "nbformat_minor": 2
}
